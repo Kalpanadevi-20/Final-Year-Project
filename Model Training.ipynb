{
 "cells": [
  {
   "cell_type": "markdown",
   "metadata": {},
   "source": [
    "# Model Building"
   ]
  },
  {
   "cell_type": "markdown",
   "metadata": {},
   "source": [
    "### Importing libraries"
   ]
  },
  {
   "cell_type": "code",
   "execution_count": 1,
   "metadata": {},
   "outputs": [
    {
     "name": "stderr",
     "output_type": "stream",
     "text": [
      "2023-02-21 12:54:27.634448: I tensorflow/core/platform/cpu_feature_guard.cc:193] This TensorFlow binary is optimized with oneAPI Deep Neural Network Library (oneDNN) to use the following CPU instructions in performance-critical operations:  AVX2 FMA\n",
      "To enable them in other operations, rebuild TensorFlow with the appropriate compiler flags.\n",
      "2023-02-21 12:54:28.002361: W tensorflow/compiler/xla/stream_executor/platform/default/dso_loader.cc:64] Could not load dynamic library 'libcudart.so.11.0'; dlerror: libcudart.so.11.0: cannot open shared object file: No such file or directory\n",
      "2023-02-21 12:54:28.002382: I tensorflow/compiler/xla/stream_executor/cuda/cudart_stub.cc:29] Ignore above cudart dlerror if you do not have a GPU set up on your machine.\n",
      "2023-02-21 12:54:29.093089: W tensorflow/compiler/xla/stream_executor/platform/default/dso_loader.cc:64] Could not load dynamic library 'libnvinfer.so.7'; dlerror: libnvinfer.so.7: cannot open shared object file: No such file or directory\n",
      "2023-02-21 12:54:29.093171: W tensorflow/compiler/xla/stream_executor/platform/default/dso_loader.cc:64] Could not load dynamic library 'libnvinfer_plugin.so.7'; dlerror: libnvinfer_plugin.so.7: cannot open shared object file: No such file or directory\n",
      "2023-02-21 12:54:29.093179: W tensorflow/compiler/tf2tensorrt/utils/py_utils.cc:38] TF-TRT Warning: Cannot dlopen some TensorRT libraries. If you would like to use Nvidia GPU with TensorRT, please make sure the missing libraries mentioned above are installed properly.\n"
     ]
    }
   ],
   "source": [
    "# This library helps add support for large, multi-dimensional arrays and matrices\n",
    "import numpy as np\n",
    "#open source used for both ML and DL for computation\n",
    "import tensorflow as tf\n",
    "#it is a plain stack of layers\n",
    "from tensorflow.keras.models import Sequential \n",
    "#Dense layer is the regular deeply connected neural network layer\n",
    "from tensorflow.keras.layers import Dense,Flatten, Dropout\n",
    "#Faltten-used fot flattening the input or change the dimension, MaxPooling2D-for downsampling the image for Convolutional layer\n",
    "from tensorflow.keras.layers import Convolution2D,MaxPooling2D \n",
    "#Its used for different augmentation of the image \n",
    "from tensorflow.keras.preprocessing.image import ImageDataGenerator"
   ]
  },
  {
   "cell_type": "markdown",
   "metadata": {},
   "source": [
    "### Augmenting the data "
   ]
  },
  {
   "cell_type": "code",
   "execution_count": 2,
   "metadata": {},
   "outputs": [],
   "source": [
    "#setting parameter for Image Data agumentation to the traing data\n",
    "train_datagen = ImageDataGenerator(rescale=1./255,\n",
    "                                   shear_range=0.2,\n",
    "                                   zoom_range=0.2,\n",
    "                                   horizontal_flip=True)\n",
    "#Image Data agumentation to the testing data\n",
    "test_datagen=ImageDataGenerator(rescale=1./255)"
   ]
  },
  {
   "cell_type": "markdown",
   "metadata": {},
   "source": [
    "### Loading our data and performing data agumentation"
   ]
  },
  {
   "cell_type": "code",
   "execution_count": 3,
   "metadata": {},
   "outputs": [
    {
     "name": "stdout",
     "output_type": "stream",
     "text": [
      "Found 594 images belonging to 6 classes.\n",
      "Found 30 images belonging to 6 classes.\n"
     ]
    }
   ],
   "source": [
    "#performing data agumentation to train data\n",
    "x_train = train_datagen.flow_from_directory(r'train',\n",
    "                                            target_size=(64, 64),\n",
    "                                            batch_size=3,\n",
    "                                            color_mode='grayscale',\n",
    "                                            class_mode='categorical')\n",
    "#performing data agumentation to test data\n",
    "x_test = test_datagen.flow_from_directory(r'test',\n",
    "                                          target_size=(64, 64),\n",
    "                                          batch_size=3,\n",
    "                                          color_mode='grayscale',\n",
    "                                          class_mode='categorical') "
   ]
  },
  {
   "cell_type": "code",
   "execution_count": 4,
   "metadata": {},
   "outputs": [
    {
     "name": "stdout",
     "output_type": "stream",
     "text": [
      "{'0': 0, '1': 1, '2': 2, '3': 3, '4': 4, '5': 5}\n"
     ]
    }
   ],
   "source": [
    "print(x_train.class_indices)#checking the number of classes"
   ]
  },
  {
   "cell_type": "markdown",
   "metadata": {},
   "source": [
    "### Model Creation"
   ]
  },
  {
   "cell_type": "code",
   "execution_count": 5,
   "metadata": {},
   "outputs": [
    {
     "name": "stderr",
     "output_type": "stream",
     "text": [
      "2023-02-21 12:54:33.183024: W tensorflow/compiler/xla/stream_executor/platform/default/dso_loader.cc:64] Could not load dynamic library 'libcuda.so.1'; dlerror: libcuda.so.1: cannot open shared object file: No such file or directory\n",
      "2023-02-21 12:54:33.183097: W tensorflow/compiler/xla/stream_executor/cuda/cuda_driver.cc:265] failed call to cuInit: UNKNOWN ERROR (303)\n",
      "2023-02-21 12:54:33.183152: I tensorflow/compiler/xla/stream_executor/cuda/cuda_diagnostics.cc:156] kernel driver does not appear to be running on this host (Dharun-Desktop): /proc/driver/nvidia/version does not exist\n",
      "2023-02-21 12:54:33.183779: I tensorflow/core/platform/cpu_feature_guard.cc:193] This TensorFlow binary is optimized with oneAPI Deep Neural Network Library (oneDNN) to use the following CPU instructions in performance-critical operations:  AVX2 FMA\n",
      "To enable them in other operations, rebuild TensorFlow with the appropriate compiler flags.\n"
     ]
    }
   ],
   "source": [
    "# Initializing the CNN\n",
    "model = Sequential()"
   ]
  },
  {
   "cell_type": "code",
   "execution_count": 6,
   "metadata": {},
   "outputs": [],
   "source": [
    "# First convolution layer and pooling\n",
    "model.add(Convolution2D(32, (3, 3), input_shape=(64, 64, 1), activation='relu'))\n",
    "model.add(MaxPooling2D(pool_size=(2, 2)))"
   ]
  },
  {
   "cell_type": "code",
   "execution_count": 7,
   "metadata": {},
   "outputs": [],
   "source": [
    "# Second convolution layer and pooling\n",
    "model.add(Convolution2D(32, (3, 3), activation='relu'))\n",
    "# input_shape is going to be the pooled feature maps from the previous convolution layer\n",
    "model.add(MaxPooling2D(pool_size=(2,2)))"
   ]
  },
  {
   "cell_type": "code",
   "execution_count": 8,
   "metadata": {},
   "outputs": [],
   "source": [
    "# Flattening the layers i.e. input layer\n",
    "model.add(Flatten())"
   ]
  },
  {
   "cell_type": "code",
   "execution_count": 9,
   "metadata": {},
   "outputs": [],
   "source": [
    "# Adding a fully connected layer, i.e. Hidden Layer\n",
    "model.add(Dense(units=512 , activation='relu'))"
   ]
  },
  {
   "cell_type": "code",
   "execution_count": 10,
   "metadata": {},
   "outputs": [],
   "source": [
    "# softmax for categorical analysis, Output Layer\n",
    "model.add(Dense(units=6, activation='softmax')) "
   ]
  },
  {
   "cell_type": "code",
   "execution_count": 11,
   "metadata": {},
   "outputs": [
    {
     "name": "stdout",
     "output_type": "stream",
     "text": [
      "Model: \"sequential\"\n",
      "_________________________________________________________________\n",
      " Layer (type)                Output Shape              Param #   \n",
      "=================================================================\n",
      " conv2d (Conv2D)             (None, 62, 62, 32)        320       \n",
      "                                                                 \n",
      " max_pooling2d (MaxPooling2D  (None, 31, 31, 32)       0         \n",
      " )                                                               \n",
      "                                                                 \n",
      " conv2d_1 (Conv2D)           (None, 29, 29, 32)        9248      \n",
      "                                                                 \n",
      " max_pooling2d_1 (MaxPooling  (None, 14, 14, 32)       0         \n",
      " 2D)                                                             \n",
      "                                                                 \n",
      " flatten (Flatten)           (None, 6272)              0         \n",
      "                                                                 \n",
      " dense (Dense)               (None, 512)               3211776   \n",
      "                                                                 \n",
      " dense_1 (Dense)             (None, 6)                 3078      \n",
      "                                                                 \n",
      "=================================================================\n",
      "Total params: 3,224,422\n",
      "Trainable params: 3,224,422\n",
      "Non-trainable params: 0\n",
      "_________________________________________________________________\n"
     ]
    }
   ],
   "source": [
    "model.summary()#summary of our model"
   ]
  },
  {
   "cell_type": "markdown",
   "metadata": {},
   "source": [
    "### Model Compilation"
   ]
  },
  {
   "cell_type": "code",
   "execution_count": 12,
   "metadata": {},
   "outputs": [],
   "source": [
    "# Compiling the CNN\n",
    "# categorical_crossentropy for more than 2\n",
    "model.compile(optimizer='adam', loss='categorical_crossentropy', metrics=['accuracy']) "
   ]
  },
  {
   "cell_type": "markdown",
   "metadata": {},
   "source": [
    "## Model fitting"
   ]
  },
  {
   "cell_type": "code",
   "execution_count": 13,
   "metadata": {},
   "outputs": [
    {
     "name": "stdout",
     "output_type": "stream",
     "text": [
      "Epoch 1/30\n",
      "198/198 [==============================] - 12s 57ms/step - loss: 1.3364 - accuracy: 0.4596 - val_loss: 0.7494 - val_accuracy: 0.7000\n",
      "Epoch 2/30\n",
      "198/198 [==============================] - 11s 58ms/step - loss: 0.6062 - accuracy: 0.7458 - val_loss: 0.4164 - val_accuracy: 0.8667\n",
      "Epoch 3/30\n",
      "198/198 [==============================] - 13s 65ms/step - loss: 0.3914 - accuracy: 0.8367 - val_loss: 0.4318 - val_accuracy: 0.9000\n",
      "Epoch 4/30\n",
      "198/198 [==============================] - 12s 61ms/step - loss: 0.2969 - accuracy: 0.8721 - val_loss: 0.3730 - val_accuracy: 0.9333\n",
      "Epoch 5/30\n",
      "198/198 [==============================] - 12s 60ms/step - loss: 0.2387 - accuracy: 0.9226 - val_loss: 0.3982 - val_accuracy: 0.8333\n",
      "Epoch 6/30\n",
      "198/198 [==============================] - 12s 60ms/step - loss: 0.1744 - accuracy: 0.9461 - val_loss: 0.2577 - val_accuracy: 0.9667\n",
      "Epoch 7/30\n",
      "198/198 [==============================] - 12s 61ms/step - loss: 0.1399 - accuracy: 0.9444 - val_loss: 0.4046 - val_accuracy: 0.9000\n",
      "Epoch 8/30\n",
      "198/198 [==============================] - 13s 64ms/step - loss: 0.1442 - accuracy: 0.9562 - val_loss: 0.2427 - val_accuracy: 0.8667\n",
      "Epoch 9/30\n",
      "198/198 [==============================] - 18s 90ms/step - loss: 0.1101 - accuracy: 0.9613 - val_loss: 0.3154 - val_accuracy: 0.9667\n",
      "Epoch 10/30\n",
      "198/198 [==============================] - 15s 77ms/step - loss: 0.0803 - accuracy: 0.9747 - val_loss: 0.1989 - val_accuracy: 0.9333\n",
      "Epoch 11/30\n",
      "198/198 [==============================] - 13s 64ms/step - loss: 0.1037 - accuracy: 0.9579 - val_loss: 0.2483 - val_accuracy: 0.9333\n",
      "Epoch 12/30\n",
      "198/198 [==============================] - 13s 64ms/step - loss: 0.0660 - accuracy: 0.9731 - val_loss: 0.5549 - val_accuracy: 0.9000\n",
      "Epoch 13/30\n",
      "198/198 [==============================] - 13s 63ms/step - loss: 0.0509 - accuracy: 0.9815 - val_loss: 0.4636 - val_accuracy: 0.9000\n",
      "Epoch 14/30\n",
      "198/198 [==============================] - 12s 62ms/step - loss: 0.0781 - accuracy: 0.9714 - val_loss: 0.3821 - val_accuracy: 0.9333\n",
      "Epoch 15/30\n",
      "198/198 [==============================] - 13s 63ms/step - loss: 0.0777 - accuracy: 0.9680 - val_loss: 0.5278 - val_accuracy: 0.8667\n",
      "Epoch 16/30\n",
      "198/198 [==============================] - 13s 64ms/step - loss: 0.0362 - accuracy: 0.9882 - val_loss: 0.6186 - val_accuracy: 0.8667\n",
      "Epoch 17/30\n",
      "198/198 [==============================] - 13s 65ms/step - loss: 0.0536 - accuracy: 0.9781 - val_loss: 0.2664 - val_accuracy: 0.9333\n",
      "Epoch 18/30\n",
      "198/198 [==============================] - 12s 61ms/step - loss: 0.0340 - accuracy: 0.9899 - val_loss: 0.3237 - val_accuracy: 0.9667\n",
      "Epoch 19/30\n",
      "198/198 [==============================] - 12s 62ms/step - loss: 0.0407 - accuracy: 0.9916 - val_loss: 0.2807 - val_accuracy: 0.9667\n",
      "Epoch 20/30\n",
      "198/198 [==============================] - 12s 61ms/step - loss: 0.0323 - accuracy: 0.9916 - val_loss: 0.2889 - val_accuracy: 0.9667\n",
      "Epoch 21/30\n",
      "198/198 [==============================] - 12s 62ms/step - loss: 0.0424 - accuracy: 0.9798 - val_loss: 0.2556 - val_accuracy: 0.9333\n",
      "Epoch 22/30\n",
      "198/198 [==============================] - 12s 61ms/step - loss: 0.0371 - accuracy: 0.9882 - val_loss: 0.2705 - val_accuracy: 0.9333\n",
      "Epoch 23/30\n",
      "198/198 [==============================] - 12s 61ms/step - loss: 0.0336 - accuracy: 0.9899 - val_loss: 0.5276 - val_accuracy: 0.9667\n",
      "Epoch 24/30\n",
      "198/198 [==============================] - 12s 61ms/step - loss: 0.0468 - accuracy: 0.9798 - val_loss: 0.3013 - val_accuracy: 0.9333\n",
      "Epoch 25/30\n",
      "198/198 [==============================] - 12s 61ms/step - loss: 0.0137 - accuracy: 0.9933 - val_loss: 0.2861 - val_accuracy: 0.9667\n",
      "Epoch 26/30\n",
      "198/198 [==============================] - 13s 65ms/step - loss: 0.0369 - accuracy: 0.9899 - val_loss: 0.3598 - val_accuracy: 0.9333\n",
      "Epoch 27/30\n",
      "198/198 [==============================] - 13s 66ms/step - loss: 0.0218 - accuracy: 0.9966 - val_loss: 0.4522 - val_accuracy: 0.9333\n",
      "Epoch 28/30\n",
      "198/198 [==============================] - 12s 61ms/step - loss: 0.0264 - accuracy: 0.9899 - val_loss: 0.4122 - val_accuracy: 0.9333\n",
      "Epoch 29/30\n",
      "198/198 [==============================] - 12s 60ms/step - loss: 0.0047 - accuracy: 0.9983 - val_loss: 0.3615 - val_accuracy: 0.9667\n",
      "Epoch 30/30\n",
      "198/198 [==============================] - 12s 61ms/step - loss: 0.0026 - accuracy: 1.0000 - val_loss: 0.4539 - val_accuracy: 0.9333\n"
     ]
    },
    {
     "data": {
      "text/plain": [
       "<keras.callbacks.History at 0x7f209c61b790>"
      ]
     },
     "execution_count": 13,
     "metadata": {},
     "output_type": "execute_result"
    }
   ],
   "source": [
    "# It will generate packets of train and test data for training\n",
    "model.fit(x_train,\n",
    "                    steps_per_epoch = 594/3 , \n",
    "                    epochs = 30, \n",
    "                    validation_data = x_test,\n",
    "                    validation_steps = 30/3 )"
   ]
  },
  {
   "cell_type": "markdown",
   "metadata": {},
   "source": [
    "### Saving model"
   ]
  },
  {
   "cell_type": "code",
   "execution_count": 14,
   "metadata": {},
   "outputs": [],
   "source": [
    "# Save the model\n",
    "model.save('gesture.h5')\n"
   ]
  },
  {
   "cell_type": "code",
   "execution_count": 16,
   "metadata": {},
   "outputs": [],
   "source": [
    "model_json = model.to_json()\n",
    "with open(\"model-bw.json\", \"w\") as json_file:\n",
    "    json_file.write(model_json)"
   ]
  },
  {
   "cell_type": "code",
   "execution_count": null,
   "metadata": {},
   "outputs": [],
   "source": []
  }
 ],
 "metadata": {
  "kernelspec": {
   "display_name": "Python 3 (ipykernel)",
   "language": "python",
   "name": "python3"
  },
  "language_info": {
   "codemirror_mode": {
    "name": "ipython",
    "version": 3
   },
   "file_extension": ".py",
   "mimetype": "text/x-python",
   "name": "python",
   "nbconvert_exporter": "python",
   "pygments_lexer": "ipython3",
   "version": "3.10.6"
  },
  "vscode": {
   "interpreter": {
    "hash": "a500124751510969a14766e17935f5919b739072bd28ba8e5d49fd6b002bd077"
   }
  }
 },
 "nbformat": 4,
 "nbformat_minor": 4
}
